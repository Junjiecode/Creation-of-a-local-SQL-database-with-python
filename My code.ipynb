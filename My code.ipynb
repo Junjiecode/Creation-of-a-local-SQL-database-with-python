{
 "cells": [
  {
   "cell_type": "markdown",
   "metadata": {},
   "source": [
    "# Creation of a local SQL database with python"
   ]
  },
  {
   "cell_type": "markdown",
   "metadata": {},
   "source": [
    "**Instructions**\n",
    "\n",
    "python and SQL are both important skills for data analyst, to manipulating data and extract query\n",
    "\n",
    "In this project, I will control MySQL remotely through python thanks to mysql.connector, and do following steps: \n",
    "\n",
    "- Importing csv file and data cleaning thanks to Pandas (python)\n",
    "- Connecting Mysql through python and creating SQL database remotely (python)\n",
    "- Inserting row by row to SQL database (python + SQL) \n",
    "- Querying remotely on SQL database, through python (python + SQL)\n",
    "\n",
    "so excited right? Let's explore some interesting insights ! :)\n",
    "\n",
    "PS: you can find attached dataframe csv file dog_breed_characteristics.csv, please place it in the same floder of jupyter notebook, to read the file properly "
   ]
  },
  {
   "cell_type": "markdown",
   "metadata": {},
   "source": [
    "## Steps:"
   ]
  },
  {
   "cell_type": "markdown",
   "metadata": {},
   "source": [
    "1. Store the `dog_breed_characteristics.csv` into a pandas DataFrame\n",
    "2. What are the columns dtypes? For object/strings columns what are the maximal lengths of strings?\n",
    "2. Create a local SQL database with corresponding columns and columns types, and an autoincrementing primary key\n",
    "3. Pick up one row of your dataframe, prepare it for inserting it into the database, treating missing values as `NULL`, and test its insertion into the database\n",
    "4. Insert all rows of the dataframe into the database\n",
    "5. Make a few check queries to the database \n",
    "6. Compute, with SQL queries, the mean of the `Intelligence` column\n",
    "7. Update your database by inserting into the `Intelligence` column its mean value on each row where it has a `NULL` value.\n",
    "8. Double check that now your Intelligence column only has non `NULL` values\n",
    "9. Drop all rows where `Group1` or `Group2` have `NULL` values\n",
    "10. On your updated database, determine which dogs have highest `AvgPupPrice`"
   ]
  },
  {
   "cell_type": "code",
   "execution_count": 2,
   "metadata": {},
   "outputs": [
    {
     "data": {
      "text/html": [
       "<div>\n",
       "<style scoped>\n",
       "    .dataframe tbody tr th:only-of-type {\n",
       "        vertical-align: middle;\n",
       "    }\n",
       "\n",
       "    .dataframe tbody tr th {\n",
       "        vertical-align: top;\n",
       "    }\n",
       "\n",
       "    .dataframe thead th {\n",
       "        text-align: right;\n",
       "    }\n",
       "</style>\n",
       "<table border=\"1\" class=\"dataframe\">\n",
       "  <thead>\n",
       "    <tr style=\"text-align: right;\">\n",
       "      <th></th>\n",
       "      <th>BreedName</th>\n",
       "      <th>AltBreedName</th>\n",
       "      <th>Group1</th>\n",
       "      <th>Group2</th>\n",
       "      <th>MaleWtKg</th>\n",
       "      <th>Temperment</th>\n",
       "      <th>AvgPupPrice</th>\n",
       "      <th>Intelligence</th>\n",
       "      <th>Watchdog</th>\n",
       "      <th>MalaysiaGuardedDog</th>\n",
       "      <th>MalaysiaProhibitedDog</th>\n",
       "      <th>MalaysiaPopularity</th>\n",
       "      <th>PopularityUS2017</th>\n",
       "    </tr>\n",
       "  </thead>\n",
       "  <tbody>\n",
       "    <tr>\n",
       "      <th>0</th>\n",
       "      <td>Affenpinscher</td>\n",
       "      <td>NaN</td>\n",
       "      <td>Toy</td>\n",
       "      <td>Companion</td>\n",
       "      <td>4.0</td>\n",
       "      <td>Active, Adventurous, Curious, Fun-loving, Play...</td>\n",
       "      <td>1000.0</td>\n",
       "      <td>37.0</td>\n",
       "      <td>1.0</td>\n",
       "      <td>NaN</td>\n",
       "      <td>NaN</td>\n",
       "      <td>NaN</td>\n",
       "      <td>147.0</td>\n",
       "    </tr>\n",
       "    <tr>\n",
       "      <th>1</th>\n",
       "      <td>Afghan Hound</td>\n",
       "      <td>NaN</td>\n",
       "      <td>Sporting</td>\n",
       "      <td>Sight</td>\n",
       "      <td>28.0</td>\n",
       "      <td>Aloof, Clownish, Dignified, Happy, Independent</td>\n",
       "      <td>2250.0</td>\n",
       "      <td>79.0</td>\n",
       "      <td>1.0</td>\n",
       "      <td>NaN</td>\n",
       "      <td>NaN</td>\n",
       "      <td>NaN</td>\n",
       "      <td>93.0</td>\n",
       "    </tr>\n",
       "    <tr>\n",
       "      <th>2</th>\n",
       "      <td>African Hunting Dog</td>\n",
       "      <td>NaN</td>\n",
       "      <td>NaN</td>\n",
       "      <td>NaN</td>\n",
       "      <td>23.0</td>\n",
       "      <td>Wild</td>\n",
       "      <td>NaN</td>\n",
       "      <td>NaN</td>\n",
       "      <td>NaN</td>\n",
       "      <td>NaN</td>\n",
       "      <td>NaN</td>\n",
       "      <td>NaN</td>\n",
       "      <td>NaN</td>\n",
       "    </tr>\n",
       "    <tr>\n",
       "      <th>3</th>\n",
       "      <td>Airedale Terrier</td>\n",
       "      <td>Airedale</td>\n",
       "      <td>Terrier</td>\n",
       "      <td>Terrier</td>\n",
       "      <td>26.0</td>\n",
       "      <td>Alert, Confident, Courageous, Friendly, Intell...</td>\n",
       "      <td>700.0</td>\n",
       "      <td>29.0</td>\n",
       "      <td>4.0</td>\n",
       "      <td>NaN</td>\n",
       "      <td>NaN</td>\n",
       "      <td>NaN</td>\n",
       "      <td>55.0</td>\n",
       "    </tr>\n",
       "    <tr>\n",
       "      <th>4</th>\n",
       "      <td>Akbash</td>\n",
       "      <td>NaN</td>\n",
       "      <td>Working</td>\n",
       "      <td>Guardian</td>\n",
       "      <td>53.0</td>\n",
       "      <td>Affectionate, Alert, Courageous, Independent, ...</td>\n",
       "      <td>600.0</td>\n",
       "      <td>NaN</td>\n",
       "      <td>5.0</td>\n",
       "      <td>NaN</td>\n",
       "      <td>NaN</td>\n",
       "      <td>NaN</td>\n",
       "      <td>NaN</td>\n",
       "    </tr>\n",
       "  </tbody>\n",
       "</table>\n",
       "</div>"
      ],
      "text/plain": [
       "             BreedName AltBreedName    Group1     Group2  MaleWtKg  \\\n",
       "0        Affenpinscher          NaN       Toy  Companion       4.0   \n",
       "1         Afghan Hound          NaN  Sporting      Sight      28.0   \n",
       "2  African Hunting Dog          NaN       NaN        NaN      23.0   \n",
       "3     Airedale Terrier     Airedale   Terrier    Terrier      26.0   \n",
       "4               Akbash          NaN   Working   Guardian      53.0   \n",
       "\n",
       "                                          Temperment  AvgPupPrice  \\\n",
       "0  Active, Adventurous, Curious, Fun-loving, Play...       1000.0   \n",
       "1     Aloof, Clownish, Dignified, Happy, Independent       2250.0   \n",
       "2                                               Wild          NaN   \n",
       "3  Alert, Confident, Courageous, Friendly, Intell...        700.0   \n",
       "4  Affectionate, Alert, Courageous, Independent, ...        600.0   \n",
       "\n",
       "   Intelligence  Watchdog  MalaysiaGuardedDog  MalaysiaProhibitedDog  \\\n",
       "0          37.0       1.0                 NaN                    NaN   \n",
       "1          79.0       1.0                 NaN                    NaN   \n",
       "2           NaN       NaN                 NaN                    NaN   \n",
       "3          29.0       4.0                 NaN                    NaN   \n",
       "4           NaN       5.0                 NaN                    NaN   \n",
       "\n",
       "   MalaysiaPopularity  PopularityUS2017  \n",
       "0                 NaN             147.0  \n",
       "1                 NaN              93.0  \n",
       "2                 NaN               NaN  \n",
       "3                 NaN              55.0  \n",
       "4                 NaN               NaN  "
      ]
     },
     "execution_count": 2,
     "metadata": {},
     "output_type": "execute_result"
    }
   ],
   "source": [
    "#1 Store the dog_breed_characteristics.csv into a pandas DataFrame\n",
    "\n",
    "import pandas as pd\n",
    "dataset = pd.read_csv(\"dog_breed_characteristics.csv\")\n",
    "\n",
    "dataset.head(5)"
   ]
  },
  {
   "cell_type": "code",
   "execution_count": 3,
   "metadata": {},
   "outputs": [
    {
     "name": "stdout",
     "output_type": "stream",
     "text": [
      "<class 'pandas.core.frame.DataFrame'>\n",
      "RangeIndex: 250 entries, 0 to 249\n",
      "Data columns (total 13 columns):\n",
      " #   Column                 Non-Null Count  Dtype  \n",
      "---  ------                 --------------  -----  \n",
      " 0   BreedName              250 non-null    object \n",
      " 1   AltBreedName           35 non-null     object \n",
      " 2   Group1                 245 non-null    object \n",
      " 3   Group2                 246 non-null    object \n",
      " 4   MaleWtKg               249 non-null    float64\n",
      " 5   Temperment             249 non-null    object \n",
      " 6   AvgPupPrice            245 non-null    float64\n",
      " 7   Intelligence           149 non-null    float64\n",
      " 8   Watchdog               244 non-null    float64\n",
      " 9   MalaysiaGuardedDog     6 non-null      float64\n",
      " 10  MalaysiaProhibitedDog  9 non-null      float64\n",
      " 11  MalaysiaPopularity     8 non-null      float64\n",
      " 12  PopularityUS2017       203 non-null    float64\n",
      "dtypes: float64(8), object(5)\n",
      "memory usage: 25.5+ KB\n",
      "\n",
      "\n",
      "BreedName : 45\n",
      "AltBreedName : 27\n",
      "Group1 : 12\n",
      "Group2 : 10\n",
      "Temperment : 125\n"
     ]
    }
   ],
   "source": [
    "#2 What are the columns dtypes? \n",
    "\n",
    "dataset.info()\n",
    "print(\"\\n\")\n",
    "\n",
    "# For object/strings columns what are the maximal lengths of strings?\n",
    "string_columns = dataset[[\"BreedName\", \"AltBreedName\", \"Group1\",\"Group2\", \"Temperment\"]]\n",
    "\n",
    "for column in string_columns: \n",
    "    max_len = dataset[column].astype(str).str.len().max() # some of obervations in some columns are NaN, we should convert it into str before count their max length \n",
    "    print(f\"{column} : {max_len}\")\n",
    "    "
   ]
  },
  {
   "cell_type": "code",
   "execution_count": 4,
   "metadata": {},
   "outputs": [
    {
     "name": "stdout",
     "output_type": "stream",
     "text": [
      "[('id', 'int', 'NO', 'PRI', None, 'auto_increment'), ('BreedName', 'text', 'YES', '', None, ''), ('AltBreedName', 'text', 'YES', '', None, ''), ('Group1', 'text', 'YES', '', None, ''), ('Group2', 'text', 'YES', '', None, ''), ('MaleWtKg', 'int', 'YES', '', None, ''), ('Temperment', 'text', 'YES', '', None, ''), ('AvgPupPrice', 'int', 'YES', '', None, ''), ('Intelligence', 'int', 'YES', '', None, ''), ('Watchdog', 'int', 'YES', '', None, ''), ('MalaysiaGuardedDog', 'int', 'YES', '', None, ''), ('MalaysiaProhibitedDog', 'int', 'YES', '', None, ''), ('MalaysiaPopularity', 'int', 'YES', '', None, ''), ('PopularityUS2017', 'int', 'YES', '', None, '')]\n"
     ]
    }
   ],
   "source": [
    "# 3 Create a local SQL database with corresponding columns and columns types, and an autoincrementing primary key\n",
    "\n",
    "#1st step connect to the local database\n",
    "import mysql.connector as mysql\n",
    "\n",
    "user_name = \"root\"\n",
    "pwd = \"Youjunjie123!\"\n",
    "\n",
    "db = mysql.connect(\n",
    "    host=\"localhost\",\n",
    "    user=user_name,\n",
    "    passwd=pwd,\n",
    "    database = \"tutorial\",\n",
    "    use_pure=True \n",
    ")\n",
    "cursor = db.cursor()\n",
    "\n",
    "create_query = \"\"\" \n",
    "CREATE TABLE IF NOT EXISTS dog_breeds (\n",
    "id INTEGER PRIMARY KEY AUTO_INCREMENT, \n",
    "BreedName TEXT, \n",
    "AltBreedName TEXT, \n",
    "Group1 TEXT, \n",
    "Group2 TEXT, \n",
    "MaleWtKg INTEGER, \n",
    "Temperment TEXT, \n",
    "AvgPupPrice INTEGER, \n",
    "Intelligence INTEGER, \n",
    "Watchdog INTEGER,\n",
    "MalaysiaGuardedDog INTEGER,\n",
    "MalaysiaProhibitedDog INTEGER,\n",
    "MalaysiaPopularity INTEGER,\n",
    "PopularityUS2017 INTEGER\n",
    ")\"\"\"\n",
    "\n",
    "cursor.execute(create_query)\n",
    "\n",
    "#2nd step to check it out \n",
    "\n",
    "cursor.execute(\"DESCRIBE dog_breeds\")\n",
    "res = cursor.fetchall()\n",
    "print(res)"
   ]
  },
  {
   "cell_type": "code",
   "execution_count": 5,
   "metadata": {},
   "outputs": [],
   "source": [
    "# 4 Pick up one row of your dataframe, prepare it for inserting it into the database, treating missing values as NULL, and test its insertion into the database"
   ]
  },
  {
   "cell_type": "code",
   "execution_count": 6,
   "metadata": {},
   "outputs": [],
   "source": [
    "# clean NaN for the whole table \n",
    "\n",
    "# Identify the integer columns\n",
    "integer_columns = dataset.select_dtypes(include=['float64']).columns\n",
    "\n",
    "# Fill NaN values with 0 for integer columns\n",
    "dataset[integer_columns] = dataset[integer_columns].fillna(0)\n",
    "\n",
    "# Identify the object columns\n",
    "object_columns = dataset.select_dtypes(include=['object']).columns\n",
    "\n",
    "# Fill NaN values with \"n\" for object columns\n",
    "dataset[object_columns] = dataset[object_columns].fillna(\"n\")"
   ]
  },
  {
   "cell_type": "code",
   "execution_count": 7,
   "metadata": {},
   "outputs": [
    {
     "name": "stdout",
     "output_type": "stream",
     "text": [
      "BreedName                                                    Affenpinscher\n",
      "AltBreedName                                                             n\n",
      "Group1                                                                 Toy\n",
      "Group2                                                           Companion\n",
      "MaleWtKg                                                               4.0\n",
      "Temperment               Active, Adventurous, Curious, Fun-loving, Play...\n",
      "AvgPupPrice                                                         1000.0\n",
      "Intelligence                                                          37.0\n",
      "Watchdog                                                               1.0\n",
      "MalaysiaGuardedDog                                                     0.0\n",
      "MalaysiaProhibitedDog                                                  0.0\n",
      "MalaysiaPopularity                                                     0.0\n",
      "PopularityUS2017                                                     147.0\n",
      "Name: 0, dtype: object\n",
      "\n",
      "\n",
      "BreedName                                                  'Affenpinscher'\n",
      "AltBreedName                                                           'n'\n",
      "Group1                                                               'Toy'\n",
      "Group2                                                         'Companion'\n",
      "MaleWtKg                                                               4.0\n",
      "Temperment               'Active, Adventurous, Curious, Fun-loving, Pla...\n",
      "AvgPupPrice                                                         1000.0\n",
      "Intelligence                                                          37.0\n",
      "Watchdog                                                               1.0\n",
      "MalaysiaGuardedDog                                                     0.0\n",
      "MalaysiaProhibitedDog                                                  0.0\n",
      "MalaysiaPopularity                                                     0.0\n",
      "PopularityUS2017                                                     147.0\n",
      "Name: 0, dtype: object\n",
      "\n",
      "\n",
      "INSERT INTO dog_breeds(BreedName, AltBreedName, Group1, Group2, MaleWtKg, Temperment, \n",
      "AvgPupPrice, Intelligence, Watchdog, MalaysiaGuardedDog, MalaysiaProhibitedDog, MalaysiaPopularity, PopularityUS2017)\n",
      "VALUES('Affenpinscher','n','Toy','Companion',4.0,'Active, Adventurous, Curious, Fun-loving, Playful, Stubborn',1000.0,37.0,1.0,0.0,0.0,0.0,147.0 )\n",
      "\n"
     ]
    },
    {
     "data": {
      "text/plain": [
       "[(901,\n",
       "  'Affenpinscher',\n",
       "  'n',\n",
       "  'Toy',\n",
       "  'Companion',\n",
       "  4,\n",
       "  'Active, Adventurous, Curious, Fun-loving, Playful, Stubborn',\n",
       "  1000,\n",
       "  37,\n",
       "  1,\n",
       "  0,\n",
       "  0,\n",
       "  0,\n",
       "  147)]"
      ]
     },
     "execution_count": 7,
     "metadata": {},
     "output_type": "execute_result"
    }
   ],
   "source": [
    "# Here I will pick the 1st row \n",
    "\n",
    "row = dataset.iloc[0]\n",
    "\n",
    "print(row)\n",
    "\n",
    "print('\\n')\n",
    "# add \"\" to str column \n",
    "\n",
    "row_to_insert = row[:]\n",
    "indices_str = [0,1,2,3,5]\n",
    "for i in indices_str:\n",
    "    row_to_insert[i]=\"'\"+row[i].strip()+\"'\"   # explain: If you don't add \"\" to each string column, SQL querry will not recognize it as \"String\"!!!\n",
    "    \n",
    "print(row_to_insert)\n",
    "\n",
    "\n",
    "insert_query = \"\"\"INSERT INTO dog_breeds(BreedName, AltBreedName, Group1, Group2, MaleWtKg, Temperment, \n",
    "AvgPupPrice, Intelligence, Watchdog, MalaysiaGuardedDog, MalaysiaProhibitedDog, MalaysiaPopularity, PopularityUS2017)\n",
    "VALUES({},{},{},{},{},{},{},{},{},{},{},{},{} )\n",
    "\"\"\"\n",
    "\n",
    "query = insert_query.format(*row)\n",
    "\n",
    "print('\\n')\n",
    "print(query)\n",
    "\n",
    "cursor.execute(query)\n",
    "\n",
    "\n",
    "# check insert \n",
    "cursor.execute(\"SELECT * FROM dog_breeds\")\n",
    "cursor.fetchall()"
   ]
  },
  {
   "cell_type": "code",
   "execution_count": 8,
   "metadata": {},
   "outputs": [],
   "source": [
    "#5 Insert all rows of the dataframe into the database"
   ]
  },
  {
   "cell_type": "code",
   "execution_count": 9,
   "metadata": {},
   "outputs": [
    {
     "data": {
      "text/plain": [
       "[('id', 'int', 'NO', 'PRI', None, 'auto_increment'),\n",
       " ('BreedName', 'text', 'YES', '', None, ''),\n",
       " ('AltBreedName', 'text', 'YES', '', None, ''),\n",
       " ('Group1', 'text', 'YES', '', None, ''),\n",
       " ('Group2', 'text', 'YES', '', None, ''),\n",
       " ('MaleWtKg', 'int', 'YES', '', None, ''),\n",
       " ('Temperment', 'text', 'YES', '', None, ''),\n",
       " ('AvgPupPrice', 'int', 'YES', '', None, ''),\n",
       " ('Intelligence', 'int', 'YES', '', None, ''),\n",
       " ('Watchdog', 'int', 'YES', '', None, ''),\n",
       " ('MalaysiaGuardedDog', 'int', 'YES', '', None, ''),\n",
       " ('MalaysiaProhibitedDog', 'int', 'YES', '', None, ''),\n",
       " ('MalaysiaPopularity', 'int', 'YES', '', None, ''),\n",
       " ('PopularityUS2017', 'int', 'YES', '', None, '')]"
      ]
     },
     "execution_count": 9,
     "metadata": {},
     "output_type": "execute_result"
    }
   ],
   "source": [
    "# refactor these steps of cleaning \n",
    "indices_str = [0,1,2,3,5]\n",
    "\n",
    "def prepare_row(row):\n",
    "    row_clean = row[:]\n",
    "    for i in indices_str:\n",
    "        row_clean[i]=\"'\"+row[i].strip()+\"'\"\n",
    "    return row_clean\n",
    "\n",
    "# drop the previous recorded table \n",
    "cursor.execute(\"DELETE FROM dog_breeds\")\n",
    "\n",
    "# recreate database \n",
    "cursor.execute(create_query)\n",
    "\n",
    "cursor.execute(\"DESCRIBE dog_breeds\")\n",
    "\n",
    "cursor.fetchall()"
   ]
  },
  {
   "cell_type": "code",
   "execution_count": 10,
   "metadata": {},
   "outputs": [
    {
     "data": {
      "text/plain": [
       "BreedName                African Hunting Dog\n",
       "AltBreedName                               n\n",
       "Group1                                     n\n",
       "Group2                                     n\n",
       "MaleWtKg                                23.0\n",
       "Temperment                              Wild\n",
       "AvgPupPrice                              0.0\n",
       "Intelligence                             0.0\n",
       "Watchdog                                 0.0\n",
       "MalaysiaGuardedDog                       0.0\n",
       "MalaysiaProhibitedDog                    0.0\n",
       "MalaysiaPopularity                       0.0\n",
       "PopularityUS2017                         0.0\n",
       "Name: 2, dtype: object"
      ]
     },
     "execution_count": 10,
     "metadata": {},
     "output_type": "execute_result"
    }
   ],
   "source": [
    "dataset.iloc[2]"
   ]
  },
  {
   "cell_type": "code",
   "execution_count": 11,
   "metadata": {},
   "outputs": [],
   "source": [
    "# load the whole table into sql database \"dog_breeds\"\n",
    "\n",
    "dataset.head()\n",
    "\n",
    "for index,row in dataset.iterrows():\n",
    "    SQL_query = insert_query.format(*prepare_row(row))\n",
    "    cursor.execute(SQL_query)"
   ]
  },
  {
   "cell_type": "code",
   "execution_count": 12,
   "metadata": {},
   "outputs": [
    {
     "name": "stdout",
     "output_type": "stream",
     "text": [
      "there are [(250,)] rows\n",
      "\n",
      "\n",
      "[(902, 'Affenpinscher', 'n', 'Toy', 'Companion', 4, 'Active, Adventurous, Curious, Fun-loving, Playful, Stubborn', 1000, 37, 1, 0, 0, 0, 147), (903, 'Afghan Hound', 'n', 'Sporting', 'Sight', 28, 'Aloof, Clownish, Dignified, Happy, Independent', 2250, 79, 1, 0, 0, 0, 93), (904, 'African Hunting Dog', 'n', 'n', 'n', 23, 'Wild', 0, 0, 0, 0, 0, 0, 0), (905, 'Airedale Terrier', 'Airedale', 'Terrier', 'Terrier', 26, 'Alert, Confident, Courageous, Friendly, Intelligent, Outgoing', 700, 29, 4, 0, 0, 0, 55), (906, 'Akbash', 'n', 'Working', 'Guardian', 53, 'Affectionate, Alert, Courageous, Independent, Intelligent, Loyal', 600, 0, 5, 0, 0, 0, 0), (907, 'Akita', 'n', 'Working', 'Herding', 44, 'Alert, Courageous, Dignified, Docile, Friendly, Intelligent, Responsive', 1000, 54, 5, 0, 1, 0, 47), (908, 'Alaskan Malamute', 'Malamute', 'Working', 'Northern', 40, 'Affectionate, Devoted, Dignified, Friendly, Loyal, Playful', 1350, 50, 5, 0, 0, 0, 59), (909, 'American Bulldog', 'n', 'Working', 'Guardian', 38, 'Affectionate, Alert, Courageous, Energetic, Gentle, Loving, Out-going, Social', 800, 0, 6, 0, 1, 0, 0), (910, 'American Eskimo Dog', 'n', 'Non Sporting', 'Northern', 8, 'Alert, Energetic, Friendly, Independent, Intelligent, Protective', 700, 0, 4, 0, 0, 0, 118), (911, 'American Hairless Terrier', 'n', 'Terrier', 'Terrier', 5, 'Alert, Lively, Loving, Intelligent, Inquisitive, Playful', 400, 0, 3, 0, 0, 0, 126)]\n"
     ]
    }
   ],
   "source": [
    "# 6 Make a few check queries to the database\n",
    "cursor.execute(\"SELECT COUNT(*) FROM dog_breeds\")\n",
    "print(f\"there are {cursor.fetchall()} rows\")\n",
    "      \n",
    "print('\\n')\n",
    "\n",
    "cursor.execute(\"SELECT * FROM dog_breeds LIMIT 10\")\n",
    "print(cursor.fetchall())"
   ]
  },
  {
   "cell_type": "code",
   "execution_count": 28,
   "metadata": {},
   "outputs": [],
   "source": [
    "# 7 Compute, with SQL queries, the mean of the Intelligence column\n",
    "\n",
    "mean_query = \"\"\"\n",
    "SELECT \n",
    "AVG(Intelligence)\n",
    "FROM dog_breeds\n",
    "WHERE Intelligence != 0 \n",
    "\"\"\"\n",
    "# Here I filter the Intelligence values which egal to 0 since they were the NaN \n",
    "cursor.execute(mean_query)\n"
   ]
  },
  {
   "cell_type": "code",
   "execution_count": 29,
   "metadata": {},
   "outputs": [
    {
     "name": "stdout",
     "output_type": "stream",
     "text": [
      "[(Decimal('38.6443'),)]\n"
     ]
    }
   ],
   "source": [
    "print(cursor.fetchall())"
   ]
  },
  {
   "cell_type": "code",
   "execution_count": 32,
   "metadata": {},
   "outputs": [],
   "source": [
    "# 8 Update your database by inserting into the Intelligence column its mean value on each row where it has a NULL value.\n",
    "\n",
    "update_query = \"\"\"UPDATE dog_breeds\n",
    "SET Intelligence = 38.6443\n",
    "WHERE Intelligence = 0\"\"\"\n",
    "\n",
    "cursor.execute(update_query)"
   ]
  },
  {
   "cell_type": "code",
   "execution_count": 35,
   "metadata": {},
   "outputs": [
    {
     "name": "stdout",
     "output_type": "stream",
     "text": [
      "[]\n"
     ]
    }
   ],
   "source": [
    "# 9 Double check that now your Intelligence column only has non NULL values\n",
    "cursor.execute(\"SELECT * FROM dog_breeds WHERE Intelligence = 0\")   # reminder: I updated all NaN values of numerical columns by 0 at the very begining \n",
    "print(cursor.fetchall())"
   ]
  },
  {
   "cell_type": "code",
   "execution_count": 37,
   "metadata": {},
   "outputs": [],
   "source": [
    "# 10 Drop all rows where Group1 or Group2 have NULL values\n",
    "\n",
    "drop_query = \"\"\"\n",
    "DELETE FROM dog_breeds\n",
    "WHERE Group1 = 'n' OR Group2 = 'n'   \n",
    "\"\"\"\n",
    "# reminder: I updated all NaN values of categorical columns by 'n' at the very begining \n",
    "\n",
    "cursor.execute(drop_query)\n"
   ]
  },
  {
   "cell_type": "code",
   "execution_count": 39,
   "metadata": {},
   "outputs": [
    {
     "name": "stdout",
     "output_type": "stream",
     "text": [
      "[]\n"
     ]
    }
   ],
   "source": [
    "# check out the table again whether it still exists rows, where Group1 or Group2 have NULL values\n",
    "\n",
    "cursor.execute(\"SELECT * FROM dog_breeds WHERE Group1 = 'n' OR Group2 = 'n' \")\n",
    "\n",
    "print(cursor.fetchall())"
   ]
  },
  {
   "cell_type": "code",
   "execution_count": 58,
   "metadata": {},
   "outputs": [],
   "source": [
    "# 11 On your updated database, determine which dogs have highest AvgPupPrice\n",
    "\n",
    "highest_query = \"\"\"\n",
    "SELECT \n",
    "BreedName,\n",
    "AvgPupPrice\n",
    "FROM dog_breeds\n",
    "ORDER BY AvgPupPrice DESC\n",
    "LIMIT 1\n",
    "\"\"\"\n",
    "cursor.execute(highest_query)\n"
   ]
  },
  {
   "cell_type": "code",
   "execution_count": 60,
   "metadata": {},
   "outputs": [
    {
     "name": "stdout",
     "output_type": "stream",
     "text": [
      "dogs have highest AvgPupPrice is [('Dogo Argentino', 39000)]\n"
     ]
    }
   ],
   "source": [
    "print(f\"dogs have highest AvgPupPrice is {cursor.fetchall()}\")"
   ]
  },
  {
   "cell_type": "code",
   "execution_count": 14,
   "metadata": {},
   "outputs": [],
   "source": [
    "#cursor.execute(\"DELETE FROM dog_breeds\")\n",
    "#cursor.execute(\"DROP TABLE dog_breeds\")"
   ]
  }
 ],
 "metadata": {
  "kernelspec": {
   "display_name": "Python 3 (ipykernel)",
   "language": "python",
   "name": "python3"
  },
  "language_info": {
   "codemirror_mode": {
    "name": "ipython",
    "version": 3
   },
   "file_extension": ".py",
   "mimetype": "text/x-python",
   "name": "python",
   "nbconvert_exporter": "python",
   "pygments_lexer": "ipython3",
   "version": "3.9.13"
  }
 },
 "nbformat": 4,
 "nbformat_minor": 2
}
